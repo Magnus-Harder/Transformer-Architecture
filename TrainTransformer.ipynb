{
 "cells": [
  {
   "cell_type": "code",
   "execution_count": 1,
   "metadata": {},
   "outputs": [
    {
     "name": "stderr",
     "output_type": "stream",
     "text": [
      "/Users/magnusharder/Documents/UNI-DTU/6. Semester/Arkitektur - Special Course/.venv/lib/python3.9/site-packages/tqdm/auto.py:22: TqdmWarning: IProgress not found. Please update jupyter and ipywidgets. See https://ipywidgets.readthedocs.io/en/stable/user_install.html\n",
      "  from .autonotebook import tqdm as notebook_tqdm\n"
     ]
    }
   ],
   "source": [
    "# Importing the libraries\n",
    "\n",
    "import torch as th\n",
    "import torch as tn\n",
    "from torchtext import vocab\n",
    "import pickle as pl\n",
    "from Transformer_Builtin import src_mask,tgt_mask\n",
    "from Transformer import Transformer\n",
    "from tqdm import tqdm\n",
    "import numpy as np"
   ]
  },
  {
   "cell_type": "code",
   "execution_count": 6,
   "metadata": {},
   "outputs": [],
   "source": [
    "# Load English data and French data\n",
    "with open('data/English_encodings.pkl', 'rb') as f:\n",
    "    english_encodings,english_sentences,Paddings_en,Vocab_en = pl.load(f)\n",
    "with open('data/French_encodings.pkl', 'rb') as f:\n",
    "    french_encodings,french_sentences,Paddings_fr,Vocab_fr = pl.load(f)\n",
    "\n",
    "# Get the vocabulary size\n",
    "src_vocab_size = Vocab_fr.__len__()\n",
    "tgt_vocab_size = Vocab_en.__len__()\n"
   ]
  },
  {
   "cell_type": "code",
   "execution_count": 24,
   "metadata": {},
   "outputs": [],
   "source": [
    "d_model = 128\n",
    "# Define Train/test split and Masking\n",
    "X = tn.tensor(french_encodings)\n",
    "Y = tn.tensor(english_encodings)\n",
    "\n",
    "\n",
    "n_train = 1000\n",
    "X_train = X[:n_train]\n",
    "Y_train = Y[:n_train]\n",
    "X_vali = X[10001:12000]\n",
    "Y_vali = Y[10001:12000]\n",
    "X_test = X[12001:]\n",
    "Y_test = Y[12001:]\n",
    "\n",
    "# Create batches\n",
    "batch_size = 50\n",
    "\n",
    "# Initialize the Batch tensors\n",
    "X_train_batches = tn.zeros((int(n_train/batch_size),batch_size,27),dtype = tn.int64)\n",
    "Y_train_batches = tn.zeros((int(n_train/batch_size),batch_size,27),dtype = tn.int64)\n",
    "\n",
    "# Create the batches\n",
    "for batch in range(int(n_train/batch_size)):\n",
    "\n",
    "    # Fill Data batches\n",
    "    X_train_batches[batch] = X_train[batch*batch_size:(batch+1)*batch_size]\n",
    "    Y_train_batches[batch] = Y_train[batch*batch_size:(batch+1)*batch_size]\n",
    "\n",
    "# Initialize the Mask tensors\n",
    "#src_mask_test = tn.zeros((int(n_train/batch_size),batch_size*8,27,27))\n",
    "#tgt_mask_test = tn.zeros((int(n_train/batch_size),batch_size*8,27,27))\n",
    "\n",
    "src_key_masks = tn.ones((int(n_train/batch_size),batch_size,27,d_model))\n",
    "tgt_key_masks = tn.ones((int(n_train/batch_size),batch_size,27,d_model))\n",
    "\n",
    "idx_sample = 0\n",
    "for batch in range(int(n_train/batch_size)):\n",
    "    for sample in range(batch_size):\n",
    "        \n",
    "        src_key_masks[batch,sample][-Paddings_fr[idx_sample]:] = 0\n",
    "        tgt_key_masks[batch,sample][-Paddings_en[idx_sample]:] = 0\n",
    "\n",
    "        # for i in range(27):\n",
    "        #     if np.random.rand() < 0.1:\n",
    "        #         tgt_key_masks[batch,sample][i] = True\n",
    "\n",
    "        #tgt_mask_test[batch,idx_sample*8:idx_sample*8+8] = tgt_mask(27,Paddings_en[idx_sample])\n",
    "        #src_mask_test[batch,idx_sample*8:idx_sample*8+8] = src_mask(27,Paddings_fr[idx_sample])\n",
    "\n",
    "        idx_sample += 1\n",
    "\n"
   ]
  },
  {
   "cell_type": "code",
   "execution_count": 15,
   "metadata": {},
   "outputs": [],
   "source": [
    "# Intialize the model with set hyperparameters\n",
    "T = 27\n",
    "d_model = 128 # Dimension of the model (Embedding size)\n",
    "d_ff = 256 # Dimension of the feedforward network model in transformer\n",
    "nhead = 3 # Number of heads in the multiheadattention models\n",
    "dk = 64\n",
    "dv = 64\n",
    "num_layers = 3\n",
    "\n",
    "src_padding_idx = Vocab_fr.__getitem__('<Pad>')\n",
    "tgt_padding_idx = Vocab_en.__getitem__('<Pad>')\n",
    "\n",
    "# Initialize the model\n",
    "Model = Transformer(\n",
    "    T = T,\n",
    "    d_model = d_model,\n",
    "    nhead = nhead,\n",
    "    d_ff = d_ff,\n",
    "    dk = 64,\n",
    "    dv = 64,\n",
    "    num_layers = num_layers,\n",
    "    src_vocab_size = src_vocab_size,\n",
    "    tgt_vocab_size = tgt_vocab_size,\n",
    "    src_padding_idx = src_padding_idx,\n",
    "    tgt_padding_idx = tgt_padding_idx,\n",
    "    dropout=0.1\n",
    ")\n",
    "    "
   ]
  },
  {
   "cell_type": "code",
   "execution_count": null,
   "metadata": {},
   "outputs": [],
   "source": [
    "tgt_mask = th.full((T,T),float('-inf')).triu(diagonal=1)\n",
    "out = Model(X_train[0],Y_train[0],src_padding_mask = src_key_masks[0][0],tgt_padding_mask = tgt_key_masks[0][0],tgt_mask = tgt_mask)\n",
    "out.argmax(dim=1)"
   ]
  },
  {
   "cell_type": "code",
   "execution_count": 19,
   "metadata": {},
   "outputs": [
    {
     "name": "stderr",
     "output_type": "stream",
     "text": [
      " 10%|█         | 1/10 [00:07<01:11,  7.90s/it]"
     ]
    },
    {
     "name": "stdout",
     "output_type": "stream",
     "text": [
      "Epoch: 0 Loss: 5.1924647521972656\n"
     ]
    },
    {
     "name": "stderr",
     "output_type": "stream",
     "text": [
      " 20%|██        | 2/10 [00:15<01:02,  7.85s/it]"
     ]
    },
    {
     "name": "stdout",
     "output_type": "stream",
     "text": [
      "Epoch: 1 Loss: 4.989856658935547\n"
     ]
    },
    {
     "name": "stderr",
     "output_type": "stream",
     "text": [
      " 30%|███       | 3/10 [00:23<00:54,  7.84s/it]"
     ]
    },
    {
     "name": "stdout",
     "output_type": "stream",
     "text": [
      "Epoch: 2 Loss: 4.956603897094727\n"
     ]
    },
    {
     "name": "stderr",
     "output_type": "stream",
     "text": [
      " 40%|████      | 4/10 [00:30<00:45,  7.65s/it]"
     ]
    },
    {
     "name": "stdout",
     "output_type": "stream",
     "text": [
      "Epoch: 3 Loss: 4.941916427612305\n"
     ]
    },
    {
     "name": "stderr",
     "output_type": "stream",
     "text": [
      " 50%|█████     | 5/10 [00:38<00:38,  7.60s/it]"
     ]
    },
    {
     "name": "stdout",
     "output_type": "stream",
     "text": [
      "Epoch: 4 Loss: 4.932976272583008\n"
     ]
    },
    {
     "name": "stderr",
     "output_type": "stream",
     "text": [
      " 60%|██████    | 6/10 [00:46<00:30,  7.62s/it]"
     ]
    },
    {
     "name": "stdout",
     "output_type": "stream",
     "text": [
      "Epoch: 5 Loss: 4.927104293823242\n"
     ]
    },
    {
     "name": "stderr",
     "output_type": "stream",
     "text": [
      " 70%|███████   | 7/10 [00:53<00:22,  7.64s/it]"
     ]
    },
    {
     "name": "stdout",
     "output_type": "stream",
     "text": [
      "Epoch: 6 Loss: 4.923023880004883\n"
     ]
    },
    {
     "name": "stderr",
     "output_type": "stream",
     "text": [
      " 80%|████████  | 8/10 [01:01<00:15,  7.58s/it]"
     ]
    },
    {
     "name": "stdout",
     "output_type": "stream",
     "text": [
      "Epoch: 7 Loss: 4.920069320678711\n"
     ]
    },
    {
     "name": "stderr",
     "output_type": "stream",
     "text": [
      " 90%|█████████ | 9/10 [01:08<00:07,  7.63s/it]"
     ]
    },
    {
     "name": "stdout",
     "output_type": "stream",
     "text": [
      "Epoch: 8 Loss: 4.917857818603515\n"
     ]
    },
    {
     "name": "stderr",
     "output_type": "stream",
     "text": [
      "100%|██████████| 10/10 [01:16<00:00,  7.63s/it]"
     ]
    },
    {
     "name": "stdout",
     "output_type": "stream",
     "text": [
      "Epoch: 9 Loss: 4.916156799316406\n"
     ]
    },
    {
     "name": "stderr",
     "output_type": "stream",
     "text": [
      "\n"
     ]
    }
   ],
   "source": [
    "loss_fn = tn.nn.CrossEntropyLoss()\n",
    "optimizer = tn.optim.Adam(Model.parameters(), lr=0.0001)\n",
    "\n",
    "# Def the training function\n",
    "def trainmodel(epochs):\n",
    "    if tn.cuda.is_available():\n",
    "        device = tn.device(\"cuda\")\n",
    "    elif tn.backends.mps.is_available():\n",
    "        device = \"cpu\"\n",
    "    else:\n",
    "        device = \"cpu\"\n",
    "\n",
    "    Model.to(device)\n",
    "    X_train_batches_mps = X_train_batches.to(device)\n",
    "    Y_train_batches_mps = Y_train_batches.to(device)\n",
    "    tgt_mask = th.full((T,T),float('-inf')).triu(diagonal=1).to(device)\n",
    "\n",
    "\n",
    "    for epoch in tqdm(range(epochs)):\n",
    "        loss_epoch = 0\n",
    "\n",
    "        for X_batch,Y_batch,src_m,tgt_m in zip(X_train_batches_mps,Y_train_batches_mps,src_key_masks.to(device),tgt_key_masks.to(device)):\n",
    "            \n",
    "            \n",
    "            optimizer.zero_grad()\n",
    "            # out = Model(X_batch,Y_batch,\n",
    "            #             #tgt_mask = no_ahead_mask_mps,\n",
    "            #             #src_key_padding_mask = src_m,\n",
    "            #             #tgt_key_padding_mask = tgt_m\n",
    "            #             )\n",
    "\n",
    "            loss = 0\n",
    "            for i in range(batch_size):\n",
    "                out = Model(X_batch[i],Y_batch[i],\n",
    "                        tgt_mask = tgt_mask,\n",
    "                         src_key_padding_mask = src_m[i],\n",
    "                         tgt_key_padding_mask = tgt_m[i]\n",
    "                         )\n",
    "\n",
    "                loss += loss_fn(out,Y_batch[i])\n",
    "            #loss = loss_fn(out,Y_batch)\n",
    "            loss_epoch += loss.item()\n",
    "\n",
    "            loss.backward()\n",
    "            \n",
    "            optimizer.step()\n",
    "        print(f\"Epoch: {epoch} Loss: {loss_epoch/n_train}\")    \n",
    "\n",
    "#%%\n",
    "\n",
    "trainmodel(10)\n",
    "\n",
    "tn.save(Model.state_dict(), \"Transformer.pt\")"
   ]
  },
  {
   "cell_type": "code",
   "execution_count": 21,
   "metadata": {},
   "outputs": [
    {
     "data": {
      "text/plain": [
       "tensor([205, 205, 205, 205, 205, 205, 205, 205, 205, 205, 205, 205, 205, 205,\n",
       "        205, 205, 205, 205, 205, 205, 205, 205, 205, 205, 205, 205, 205])"
      ]
     },
     "execution_count": 21,
     "metadata": {},
     "output_type": "execute_result"
    }
   ],
   "source": [
    "tgt_mask = th.full((T,T),float('-inf')).triu(diagonal=1)\n",
    "out = Model(X_train[0],Y_train[0],tgt_mask = tgt_mask)\n",
    "out.argmax(dim=1)"
   ]
  },
  {
   "cell_type": "code",
   "execution_count": 23,
   "metadata": {},
   "outputs": [
    {
     "data": {
      "text/plain": [
       "tensor([[ 1.0354,  0.1280, -1.0998,  ...,  1.0204,  1.3559,  1.3815],\n",
       "        [ 0.5106,  1.5056, -0.2125,  ...,  0.2947,  1.5198,  1.3693],\n",
       "        [ 1.1103, -1.5857, -0.1996,  ..., -0.2834,  0.9721,  0.9523],\n",
       "        ...,\n",
       "        [-0.9056,  0.4242,  0.9349,  ...,  1.0000,  0.0028,  1.0000],\n",
       "        [-0.1324,  0.9912,  0.3354,  ...,  1.0000,  0.0029,  1.0000],\n",
       "        [ 0.7626,  0.6469, -0.5003,  ...,  1.0000,  0.0030,  1.0000]],\n",
       "       grad_fn=<AddBackward0>)"
      ]
     },
     "execution_count": 23,
     "metadata": {},
     "output_type": "execute_result"
    }
   ],
   "source": [
    "Model.PositionalEncoding(Model.Embedding_src(X_train[0]))"
   ]
  },
  {
   "cell_type": "code",
   "execution_count": null,
   "metadata": {},
   "outputs": [],
   "source": []
  }
 ],
 "metadata": {
  "kernelspec": {
   "display_name": ".venv",
   "language": "python",
   "name": "python3"
  },
  "language_info": {
   "codemirror_mode": {
    "name": "ipython",
    "version": 3
   },
   "file_extension": ".py",
   "mimetype": "text/x-python",
   "name": "python",
   "nbconvert_exporter": "python",
   "pygments_lexer": "ipython3",
   "version": "3.9.16"
  },
  "orig_nbformat": 4,
  "vscode": {
   "interpreter": {
    "hash": "554043c00383563873f7de553f5ef220995ac86d49372a9e11c31629c859d6a6"
   }
  }
 },
 "nbformat": 4,
 "nbformat_minor": 2
}
