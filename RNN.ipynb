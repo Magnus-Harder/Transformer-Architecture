{
 "cells": [
  {
   "cell_type": "code",
   "execution_count": 1,
   "metadata": {},
   "outputs": [
    {
     "name": "stderr",
     "output_type": "stream",
     "text": [
      "/Users/magnusharder/Documents/UNI-DTU/6. Semester/Arkitektur - Special Course/.venv/lib/python3.9/site-packages/tqdm/auto.py:22: TqdmWarning: IProgress not found. Please update jupyter and ipywidgets. See https://ipywidgets.readthedocs.io/en/stable/user_install.html\n",
      "  from .autonotebook import tqdm as notebook_tqdm\n"
     ]
    }
   ],
   "source": [
    "# Importing the libraries\n",
    "\n",
    "import torch as th\n",
    "import torch as tn\n",
    "import torch.nn as nn\n",
    "import torch.nn.functional as F\n",
    "\n",
    "import torch.optim as optim\n",
    "import torchtext\n",
    "\n",
    "from torchtext import vocab\n",
    "import pickle as pl\n",
    "from tqdm import tqdm\n",
    "import numpy as np"
   ]
  },
  {
   "cell_type": "code",
   "execution_count": 2,
   "metadata": {},
   "outputs": [],
   "source": [
    "# Load English data and French data\n",
    "with open('data/English_encodings.pkl', 'rb') as f:\n",
    "    english_encodings,english_sentences,Paddings_en,Vocab_en = pl.load(f)\n",
    "with open('data/French_encodings.pkl', 'rb') as f:\n",
    "    french_encodings,french_sentences,Paddings_fr,Vocab_fr = pl.load(f)\n",
    "\n",
    "# Get the vocabulary size\n",
    "src_vocab_size = Vocab_fr.__len__()\n",
    "tgt_vocab_size = Vocab_en.__len__()\n"
   ]
  },
  {
   "cell_type": "code",
   "execution_count": 3,
   "metadata": {},
   "outputs": [],
   "source": [
    "d_model = 128\n",
    "# Define Train/test split and Masking\n",
    "X = tn.tensor(french_encodings)\n",
    "Y = tn.tensor(english_encodings)\n",
    "\n",
    "\n",
    "n_train = 1000\n",
    "X_train = X[:n_train]\n",
    "Y_train = Y[:n_train]\n",
    "X_vali = X[10001:12000]\n",
    "Y_vali = Y[10001:12000]\n",
    "X_test = X[12001:]\n",
    "Y_test = Y[12001:]\n",
    "\n",
    "# Create batches\n",
    "batch_size = 50\n",
    "\n",
    "# Initialize the Batch tensors\n",
    "X_train_batches = tn.zeros((int(n_train/batch_size),batch_size,27),dtype = tn.int64)\n",
    "Y_train_batches = tn.zeros((int(n_train/batch_size),batch_size,27),dtype = tn.int64)\n",
    "\n",
    "# Create the batches\n",
    "for batch in range(int(n_train/batch_size)):\n",
    "\n",
    "    # Fill Data batches\n",
    "    X_train_batches[batch] = X_train[batch*batch_size:(batch+1)*batch_size]\n",
    "    Y_train_batches[batch] = Y_train[batch*batch_size:(batch+1)*batch_size]\n",
    "\n",
    "# Initialize the Mask tensors\n",
    "#src_mask_test = tn.zeros((int(n_train/batch_size),batch_size*8,27,27))\n",
    "#tgt_mask_test = tn.zeros((int(n_train/batch_size),batch_size*8,27,27))\n",
    "\n",
    "src_key_masks = tn.ones((int(n_train/batch_size),batch_size,27,d_model))\n",
    "tgt_key_masks = tn.ones((int(n_train/batch_size),batch_size,27,d_model))\n",
    "\n",
    "idx_sample = 0\n",
    "for batch in range(int(n_train/batch_size)):\n",
    "    for sample in range(batch_size):\n",
    "        \n",
    "        src_key_masks[batch,sample][-Paddings_fr[idx_sample]:] = 0\n",
    "        tgt_key_masks[batch,sample][-Paddings_en[idx_sample]:] = 0\n",
    "\n",
    "        # for i in range(27):\n",
    "        #     if np.random.rand() < 0.1:\n",
    "        #         tgt_key_masks[batch,sample][i] = True\n",
    "\n",
    "        #tgt_mask_test[batch,idx_sample*8:idx_sample*8+8] = tgt_mask(27,Paddings_en[idx_sample])\n",
    "        #src_mask_test[batch,idx_sample*8:idx_sample*8+8] = src_mask(27,Paddings_fr[idx_sample])\n",
    "\n",
    "        idx_sample += 1\n",
    "\n"
   ]
  },
  {
   "cell_type": "code",
   "execution_count": 17,
   "metadata": {},
   "outputs": [],
   "source": [
    "class LSTMNet(nn.Module):\n",
    "    def __init__(self, dim_input, dim_recurrent, num_layers, dim_output,src_padding_idx):\n",
    "        super().__init__()\n",
    "\n",
    "        self.Embedding_src = nn.Embedding(src_vocab_size,d_model, padding_idx=src_padding_idx)\n",
    "\n",
    "\n",
    "\n",
    "        self.lstm = nn.LSTM(input_size = dim_input,\n",
    "                            hidden_size = dim_recurrent,\n",
    "                            num_layers = num_layers,\n",
    "                            batch_first = True)\n",
    "        self.fc_o2y = nn.Linear(dim_recurrent, dim_output)\n",
    "    def forward(self, input):\n",
    "\n",
    "        input = self.Embedding_src(input)\n",
    "        \n",
    "        # Get the last layer's last time step activation\n",
    "        output, _ = self.lstm(input)\n",
    "        #output = output[-1]\n",
    "        return self.fc_o2y(F.relu(output))\n",
    "\n",
    "class GRUNet(nn.Module):\n",
    "    def __init__(self, dim_input, dim_recurrent, num_layers, dim_output,src_padding_idx):\n",
    "        super().__init__()\n",
    "\n",
    "        self.Embedding_src = nn.Embedding(src_vocab_size,d_model, padding_idx=src_padding_idx)\n",
    "        #self.Softmax = nn.Softmax(dim = 1)\n",
    "\n",
    "        self.gru = nn.GRU(input_size = dim_input,\n",
    "                          hidden_size = dim_recurrent,\n",
    "                          num_layers = num_layers,\n",
    "                          batch_first = True)\n",
    "        self.fc_y = nn.Linear(dim_recurrent, dim_output)\n",
    "    def forward(self, input):\n",
    "\n",
    "        input = self.Embedding_src(input)\n",
    "        # Get the last layer's last time step activation\n",
    "        output, _ = self.gru(input)\n",
    "        output = self.fc_y(F.relu(output))\n",
    "        #output = output[-1]\n",
    "        return output"
   ]
  },
  {
   "cell_type": "code",
   "execution_count": 18,
   "metadata": {},
   "outputs": [],
   "source": [
    "d_model = 128\n",
    "dim_input = d_model\n",
    "dim_recurrent = d_model\n",
    "num_layers = 27\n",
    "dim_output = tgt_vocab_size\n",
    "src_padding_idx = Vocab_en.__getitem__('<Pad>')\n",
    "\n",
    "\n",
    "\n",
    "LSTM = LSTMNet(\n",
    "    dim_input = dim_input,\n",
    "    dim_recurrent = dim_recurrent,\n",
    "    num_layers = num_layers,\n",
    "    dim_output = dim_output,\n",
    "    src_padding_idx = src_padding_idx\n",
    ")\n",
    "\n",
    "GRU = GRUNet(\n",
    "    dim_input = dim_input,\n",
    "    dim_recurrent = dim_recurrent,\n",
    "    num_layers = num_layers,\n",
    "    dim_output = dim_output,\n",
    "    src_padding_idx = src_padding_idx\n",
    ")"
   ]
  },
  {
   "cell_type": "code",
   "execution_count": 19,
   "metadata": {},
   "outputs": [],
   "source": [
    "# Define Training Function\n",
    "def train(model, optimizer, loss_fn, n_epochs, n_batches, X_train_batches, Y_train_batches, src_padding_idx):\n",
    "    for epoch in range(n_epochs):\n",
    "        loss_epoch = 0\n",
    "        for batch in range(n_batches):\n",
    "            # Get the data\n",
    "            X_batch = X_train_batches[batch]\n",
    "            Y_batch = Y_train_batches[batch]\n",
    "\n",
    "            # Zero the gradients\n",
    "            optimizer.zero_grad()\n",
    "\n",
    "            # Forward pass\n",
    "            y_pred = model(X_batch)\n",
    "\n",
    "            # Compute the loss\n",
    "            loss = 0 \n",
    "            for sample in range(batch_size):\n",
    "                loss += loss_fn(y_pred[sample], Y_batch[sample])\n",
    "\n",
    "            # Backward pass\n",
    "            loss.backward()\n",
    "\n",
    "            # Update the parameters\n",
    "            optimizer.step()\n",
    "\n",
    "            # Print the loss\n",
    "            loss_epoch += loss.item()\n",
    "\n",
    "        print('Epoch: %d, Batch: %d, Loss: %f' % (epoch, batch, loss_epoch/n_train))"
   ]
  },
  {
   "cell_type": "code",
   "execution_count": 20,
   "metadata": {},
   "outputs": [],
   "source": [
    "# Define the loss function\n",
    "loss_fn = nn.CrossEntropyLoss()\n",
    "\n",
    "# Define the optimizer LSTM\n",
    "optimizer_LSTM = th.optim.Adam(LSTM.parameters(), lr=0.001)\n",
    "\n",
    "# Define the optimizer GRU\n",
    "optimizer_GRU = th.optim.Adam(GRU.parameters(), lr=0.001)\n",
    "\n",
    "# Define the number of epochs\n",
    "n_epochs = 10\n",
    "\n",
    "# Define the number of batches\n",
    "n_batches = 20\n",
    "\n",
    "#train(LSTM, optimizer_LSTM, loss_fn, n_epochs, n_batches, X_train_batches, Y_train_batches, src_padding_idx)"
   ]
  },
  {
   "cell_type": "code",
   "execution_count": 21,
   "metadata": {},
   "outputs": [
    {
     "name": "stdout",
     "output_type": "stream",
     "text": [
      "Epoch: 0, Batch: 19, Loss: 5.322143\n",
      "Epoch: 1, Batch: 19, Loss: 5.298316\n",
      "Epoch: 2, Batch: 19, Loss: 5.273137\n",
      "Epoch: 3, Batch: 19, Loss: 5.247820\n",
      "Epoch: 4, Batch: 19, Loss: 5.228071\n",
      "Epoch: 5, Batch: 19, Loss: 5.212155\n"
     ]
    }
   ],
   "source": [
    "train(GRU, optimizer_GRU, loss_fn, n_epochs, n_batches, X_train_batches, Y_train_batches, src_padding_idx)"
   ]
  },
  {
   "cell_type": "code",
   "execution_count": 12,
   "metadata": {},
   "outputs": [],
   "source": [
    "out = LSTM(X_train_batches[0][0])"
   ]
  },
  {
   "cell_type": "code",
   "execution_count": 16,
   "metadata": {},
   "outputs": [
    {
     "data": {
      "text/plain": [
       "tensor([[ 1.3011e+00, -1.2285e+00, -1.4818e+00,  ..., -1.5636e+00,\n",
       "          2.4369e-03,  5.2926e+00],\n",
       "        [ 2.0830e+00, -1.7962e+00, -2.8730e+00,  ..., -3.2828e+00,\n",
       "         -2.2303e+00,  2.9376e+00],\n",
       "        [ 3.3724e+00, -9.3915e-01, -2.7735e+00,  ..., -3.4465e+00,\n",
       "         -2.8060e+00, -6.5243e-02],\n",
       "        ...,\n",
       "        [ 6.2368e-02, -4.7177e-01,  2.2333e+00,  ...,  2.9843e+00,\n",
       "          7.3382e+00, -1.8834e+00],\n",
       "        [ 6.2177e-02, -4.7159e-01,  2.2331e+00,  ...,  2.9842e+00,\n",
       "          7.3389e+00, -1.8836e+00],\n",
       "        [ 6.2074e-02, -4.7150e-01,  2.2331e+00,  ...,  2.9842e+00,\n",
       "          7.3392e+00, -1.8838e+00]], grad_fn=<AddmmBackward0>)"
      ]
     },
     "execution_count": 16,
     "metadata": {},
     "output_type": "execute_result"
    }
   ],
   "source": [
    "out"
   ]
  },
  {
   "cell_type": "code",
   "execution_count": 14,
   "metadata": {},
   "outputs": [
    {
     "data": {
      "text/plain": [
       "tensor([206, 206,   0,   0,   5,   5,   1,   1,   1,   4,   0, 205, 205, 205,\n",
       "        205, 205, 205, 205, 205, 205, 205, 205, 205, 205, 205, 205, 205])"
      ]
     },
     "execution_count": 14,
     "metadata": {},
     "output_type": "execute_result"
    }
   ],
   "source": [
    "out.argmax(dim=1)"
   ]
  },
  {
   "cell_type": "code",
   "execution_count": 15,
   "metadata": {},
   "outputs": [
    {
     "data": {
      "text/plain": [
       "tensor([206,  18,  24,   0,   9,  68,   5,  40,   1,   8,   4,   0,  56,   3,\n",
       "         45,   2, 204, 205, 205, 205, 205, 205, 205, 205, 205, 205, 205])"
      ]
     },
     "execution_count": 15,
     "metadata": {},
     "output_type": "execute_result"
    }
   ],
   "source": [
    "Y_train_batches[0][0]"
   ]
  },
  {
   "cell_type": "code",
   "execution_count": null,
   "metadata": {},
   "outputs": [],
   "source": []
  }
 ],
 "metadata": {
  "kernelspec": {
   "display_name": ".venv",
   "language": "python",
   "name": "python3"
  },
  "language_info": {
   "codemirror_mode": {
    "name": "ipython",
    "version": 3
   },
   "file_extension": ".py",
   "mimetype": "text/x-python",
   "name": "python",
   "nbconvert_exporter": "python",
   "pygments_lexer": "ipython3",
   "version": "3.9.16"
  },
  "orig_nbformat": 4,
  "vscode": {
   "interpreter": {
    "hash": "554043c00383563873f7de553f5ef220995ac86d49372a9e11c31629c859d6a6"
   }
  }
 },
 "nbformat": 4,
 "nbformat_minor": 2
}
